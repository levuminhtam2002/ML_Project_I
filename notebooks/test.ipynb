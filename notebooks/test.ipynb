{
 "cells": [
  {
   "cell_type": "code",
   "execution_count": 9,
   "metadata": {},
   "outputs": [],
   "source": [
    "import pandas as pd\n",
    "import numpy as np\n",
    "import os"
   ]
  },
  {
   "cell_type": "code",
   "execution_count": 10,
   "metadata": {},
   "outputs": [],
   "source": [
    "cwd = os.getcwd()"
   ]
  },
  {
   "cell_type": "code",
   "execution_count": 11,
   "metadata": {},
   "outputs": [],
   "source": [
    "bundesliga_dir = cwd + '/../data/matches/Bundesliga'\n",
    "la_liga_dir = cwd + '/../data/matches/La Liga'\n",
    "ligue_1_dir = cwd + '/../data/matches/Ligue 1'\n",
    "premier_league_dir = cwd + '/../data/matches/Premier League'\n",
    "serie_a_dir = cwd + '/../data/matches/Serie A'"
   ]
  },
  {
   "cell_type": "code",
   "execution_count": 12,
   "metadata": {},
   "outputs": [],
   "source": [
    "matches = pd.read_csv(premier_league_dir + '/Season 2021-2022.csv', index_col=0)"
   ]
  },
  {
   "cell_type": "code",
   "execution_count": 13,
   "metadata": {},
   "outputs": [],
   "source": [
    "matches = matches.drop(matches.iloc[:, 23:],axis = 1)\n",
    "matches = matches.drop(['HTHG', 'HTAG', 'HTR', 'Referee'],axis = 1)\n",
    "matches = matches.reset_index(drop=True)"
   ]
  },
  {
   "cell_type": "code",
   "execution_count": 14,
   "metadata": {},
   "outputs": [],
   "source": [
    "matches['Datetime'] = matches.apply(lambda row: row.Date + ' ' + row.Time, axis=1)"
   ]
  },
  {
   "cell_type": "code",
   "execution_count": 15,
   "metadata": {},
   "outputs": [],
   "source": [
    "matches = matches.drop(['Date', 'Time'],axis = 1)"
   ]
  },
  {
   "cell_type": "code",
   "execution_count": 16,
   "metadata": {},
   "outputs": [],
   "source": [
    "matches['Datetime'] = pd.to_datetime(matches['Datetime'], format='%d/%m/%Y %H:%M')"
   ]
  },
  {
   "cell_type": "code",
   "execution_count": 17,
   "metadata": {},
   "outputs": [],
   "source": [
    "matches = matches.rename(columns=str.lower)"
   ]
  },
  {
   "cell_type": "code",
   "execution_count": 18,
   "metadata": {},
   "outputs": [],
   "source": [
    "# Shot conversion rate\n",
    "matches['hscr'] = matches['fthg'] / matches['hs']\n",
    "matches['ascr'] = matches['ftag'] / matches['as']"
   ]
  },
  {
   "cell_type": "code",
   "execution_count": 19,
   "metadata": {},
   "outputs": [],
   "source": [
    "matches = matches.sort_values('datetime')"
   ]
  },
  {
   "cell_type": "code",
   "execution_count": 20,
   "metadata": {},
   "outputs": [
    {
     "data": {
      "text/html": [
       "<div>\n",
       "<style scoped>\n",
       "    .dataframe tbody tr th:only-of-type {\n",
       "        vertical-align: middle;\n",
       "    }\n",
       "\n",
       "    .dataframe tbody tr th {\n",
       "        vertical-align: top;\n",
       "    }\n",
       "\n",
       "    .dataframe thead th {\n",
       "        text-align: right;\n",
       "    }\n",
       "</style>\n",
       "<table border=\"1\" class=\"dataframe\">\n",
       "  <thead>\n",
       "    <tr style=\"text-align: right;\">\n",
       "      <th></th>\n",
       "      <th>hometeam</th>\n",
       "      <th>awayteam</th>\n",
       "      <th>fthg</th>\n",
       "      <th>ftag</th>\n",
       "      <th>ftr</th>\n",
       "      <th>hs</th>\n",
       "      <th>as</th>\n",
       "      <th>hst</th>\n",
       "      <th>ast</th>\n",
       "      <th>hf</th>\n",
       "      <th>af</th>\n",
       "      <th>hc</th>\n",
       "      <th>ac</th>\n",
       "      <th>hy</th>\n",
       "      <th>ay</th>\n",
       "      <th>hr</th>\n",
       "      <th>ar</th>\n",
       "      <th>datetime</th>\n",
       "      <th>hscr</th>\n",
       "      <th>ascr</th>\n",
       "    </tr>\n",
       "  </thead>\n",
       "  <tbody>\n",
       "    <tr>\n",
       "      <th>0</th>\n",
       "      <td>Brentford</td>\n",
       "      <td>Arsenal</td>\n",
       "      <td>2</td>\n",
       "      <td>0</td>\n",
       "      <td>H</td>\n",
       "      <td>8</td>\n",
       "      <td>22</td>\n",
       "      <td>3</td>\n",
       "      <td>4</td>\n",
       "      <td>12</td>\n",
       "      <td>8</td>\n",
       "      <td>2</td>\n",
       "      <td>5</td>\n",
       "      <td>0</td>\n",
       "      <td>0</td>\n",
       "      <td>0</td>\n",
       "      <td>0</td>\n",
       "      <td>2021-08-13 20:00:00</td>\n",
       "      <td>0.250000</td>\n",
       "      <td>0.000000</td>\n",
       "    </tr>\n",
       "    <tr>\n",
       "      <th>1</th>\n",
       "      <td>Man United</td>\n",
       "      <td>Leeds</td>\n",
       "      <td>5</td>\n",
       "      <td>1</td>\n",
       "      <td>H</td>\n",
       "      <td>16</td>\n",
       "      <td>10</td>\n",
       "      <td>8</td>\n",
       "      <td>3</td>\n",
       "      <td>11</td>\n",
       "      <td>9</td>\n",
       "      <td>5</td>\n",
       "      <td>4</td>\n",
       "      <td>1</td>\n",
       "      <td>2</td>\n",
       "      <td>0</td>\n",
       "      <td>0</td>\n",
       "      <td>2021-08-14 12:30:00</td>\n",
       "      <td>0.312500</td>\n",
       "      <td>0.100000</td>\n",
       "    </tr>\n",
       "    <tr>\n",
       "      <th>2</th>\n",
       "      <td>Burnley</td>\n",
       "      <td>Brighton</td>\n",
       "      <td>1</td>\n",
       "      <td>2</td>\n",
       "      <td>A</td>\n",
       "      <td>14</td>\n",
       "      <td>14</td>\n",
       "      <td>3</td>\n",
       "      <td>8</td>\n",
       "      <td>10</td>\n",
       "      <td>7</td>\n",
       "      <td>7</td>\n",
       "      <td>6</td>\n",
       "      <td>2</td>\n",
       "      <td>1</td>\n",
       "      <td>0</td>\n",
       "      <td>0</td>\n",
       "      <td>2021-08-14 15:00:00</td>\n",
       "      <td>0.071429</td>\n",
       "      <td>0.142857</td>\n",
       "    </tr>\n",
       "    <tr>\n",
       "      <th>3</th>\n",
       "      <td>Chelsea</td>\n",
       "      <td>Crystal Palace</td>\n",
       "      <td>3</td>\n",
       "      <td>0</td>\n",
       "      <td>H</td>\n",
       "      <td>13</td>\n",
       "      <td>4</td>\n",
       "      <td>6</td>\n",
       "      <td>1</td>\n",
       "      <td>15</td>\n",
       "      <td>11</td>\n",
       "      <td>5</td>\n",
       "      <td>2</td>\n",
       "      <td>0</td>\n",
       "      <td>0</td>\n",
       "      <td>0</td>\n",
       "      <td>0</td>\n",
       "      <td>2021-08-14 15:00:00</td>\n",
       "      <td>0.230769</td>\n",
       "      <td>0.000000</td>\n",
       "    </tr>\n",
       "    <tr>\n",
       "      <th>4</th>\n",
       "      <td>Everton</td>\n",
       "      <td>Southampton</td>\n",
       "      <td>3</td>\n",
       "      <td>1</td>\n",
       "      <td>H</td>\n",
       "      <td>14</td>\n",
       "      <td>6</td>\n",
       "      <td>6</td>\n",
       "      <td>3</td>\n",
       "      <td>13</td>\n",
       "      <td>15</td>\n",
       "      <td>6</td>\n",
       "      <td>8</td>\n",
       "      <td>2</td>\n",
       "      <td>0</td>\n",
       "      <td>0</td>\n",
       "      <td>0</td>\n",
       "      <td>2021-08-14 15:00:00</td>\n",
       "      <td>0.214286</td>\n",
       "      <td>0.166667</td>\n",
       "    </tr>\n",
       "  </tbody>\n",
       "</table>\n",
       "</div>"
      ],
      "text/plain": [
       "     hometeam        awayteam  fthg  ftag ftr  hs  as  hst  ast  hf  af  hc  \\\n",
       "0   Brentford         Arsenal     2     0   H   8  22    3    4  12   8   2   \n",
       "1  Man United           Leeds     5     1   H  16  10    8    3  11   9   5   \n",
       "2     Burnley        Brighton     1     2   A  14  14    3    8  10   7   7   \n",
       "3     Chelsea  Crystal Palace     3     0   H  13   4    6    1  15  11   5   \n",
       "4     Everton     Southampton     3     1   H  14   6    6    3  13  15   6   \n",
       "\n",
       "   ac  hy  ay  hr  ar            datetime      hscr      ascr  \n",
       "0   5   0   0   0   0 2021-08-13 20:00:00  0.250000  0.000000  \n",
       "1   4   1   2   0   0 2021-08-14 12:30:00  0.312500  0.100000  \n",
       "2   6   2   1   0   0 2021-08-14 15:00:00  0.071429  0.142857  \n",
       "3   2   0   0   0   0 2021-08-14 15:00:00  0.230769  0.000000  \n",
       "4   8   2   0   0   0 2021-08-14 15:00:00  0.214286  0.166667  "
      ]
     },
     "execution_count": 20,
     "metadata": {},
     "output_type": "execute_result"
    }
   ],
   "source": [
    "matches.head()"
   ]
  },
  {
   "cell_type": "code",
   "execution_count": 21,
   "metadata": {},
   "outputs": [],
   "source": [
    "previous_season_standing = {}\n",
    "\n",
    "for index, match in matches.iterrows():\n",
    "    if match['hometeam'] not in previous_season_standing:\n",
    "        if match['ftr'] == 'H':\n",
    "            score = 3\n",
    "        elif match['ftr'] == 'A':\n",
    "            score = 0\n",
    "        else:\n",
    "            score = 1\n",
    "        previous_season_standing[match['hometeam']] = score\n",
    "    else:\n",
    "        if match['ftr'] == 'H':\n",
    "            score = 3\n",
    "        elif match['ftr'] == 'A':\n",
    "            score = 0\n",
    "        else:\n",
    "            score = 1\n",
    "        previous_season_standing[match['hometeam']] += score\n",
    "    if match['awayteam'] not in previous_season_standing:\n",
    "        if match['ftr'] == 'A':\n",
    "            score = 3\n",
    "        elif match['ftr'] == 'H':\n",
    "            score = 0\n",
    "        else:\n",
    "            score = 1\n",
    "        previous_season_standing[match['awayteam']] = score\n",
    "    else:\n",
    "        if match['ftr'] == 'A':\n",
    "            score = 3\n",
    "        elif match['ftr'] == 'H':\n",
    "            score = 0\n",
    "        else:\n",
    "            score = 1\n",
    "        previous_season_standing[match['awayteam']] += score"
   ]
  },
  {
   "cell_type": "code",
   "execution_count": 22,
   "metadata": {},
   "outputs": [
    {
     "data": {
      "text/plain": [
       "{'Norwich': 22,\n",
       " 'Watford': 23,\n",
       " 'Burnley': 35,\n",
       " 'Leeds': 38,\n",
       " 'Everton': 39,\n",
       " 'Southampton': 40,\n",
       " 'Aston Villa': 45,\n",
       " 'Brentford': 46,\n",
       " 'Crystal Palace': 48,\n",
       " 'Newcastle': 49,\n",
       " 'Brighton': 51,\n",
       " 'Wolves': 51,\n",
       " 'Leicester': 52,\n",
       " 'West Ham': 56,\n",
       " 'Man United': 58,\n",
       " 'Arsenal': 69,\n",
       " 'Tottenham': 71,\n",
       " 'Chelsea': 74,\n",
       " 'Liverpool': 92,\n",
       " 'Man City': 93}"
      ]
     },
     "execution_count": 22,
     "metadata": {},
     "output_type": "execute_result"
    }
   ],
   "source": [
    "previous_season_standing = {k:v for k, v in sorted(previous_season_standing.items(), key=lambda item: item[1])}\n",
    "previous_season_standing"
   ]
  },
  {
   "cell_type": "code",
   "execution_count": 23,
   "metadata": {},
   "outputs": [],
   "source": [
    "X = []\n",
    "y = []\n",
    "\n",
    "for _, match in matches.iterrows():\n",
    "    previous_matches = matches[matches['datetime'] < match['datetime']]\n",
    "    previous_hometeam_matches = previous_matches[(previous_matches['hometeam'] == match['hometeam']) | (previous_matches['awayteam'] == match['hometeam'])]\n",
    "    previous_awayteam_matches = previous_matches[(previous_matches['hometeam'] == match['awayteam']) | (previous_matches['awayteam'] == match['awayteam'])]\n",
    "    if previous_hometeam_matches.shape[0] > 0 and previous_awayteam_matches.shape[0] > 0:\n",
    "        hometeam_rolling_values = [] # Shots, Shots On Target, Corners, Foul Committed, Yellow Cards, Red Cards, Score Conversion Rate\n",
    "        awayteam_rolling_values = []\n",
    "        for _, previous_match in previous_hometeam_matches.iterrows():\n",
    "            if previous_match['hometeam'] == match['hometeam']:\n",
    "                hometeam_rolling_values.append([previous_match['hs'], previous_match['hst'], previous_match['hc'], previous_match['hf'], previous_match['hy'], previous_match['hr'], previous_match['hscr']])\n",
    "            if previous_match['awayteam'] == match['hometeam']:\n",
    "                hometeam_rolling_values.append([previous_match['as'], previous_match['ast'], previous_match['ac'], previous_match['af'], previous_match['ay'], previous_match['ar'], previous_match['ascr']])\n",
    "        for _, previous_match in previous_awayteam_matches.iterrows():\n",
    "            if previous_match['hometeam'] == match['awayteam']:\n",
    "                awayteam_rolling_values.append([previous_match['hs'], previous_match['hst'], previous_match['hc'], previous_match['hf'], previous_match['hy'], previous_match['hr'], previous_match['hscr']])\n",
    "            if previous_match['awayteam'] == match['awayteam']:\n",
    "                awayteam_rolling_values.append([previous_match['as'], previous_match['ast'], previous_match['ac'], previous_match['af'], previous_match['ay'], previous_match['ar'], previous_match['ascr']])\n",
    "        if len(hometeam_rolling_values) > 5:\n",
    "            hometeam_rolling_values = hometeam_rolling_values[-6:]\n",
    "        if len(awayteam_rolling_values) > 5:\n",
    "            awayteam_rolling_values = awayteam_rolling_values[-6:]\n",
    "        X.append(np.concatenate([np.mean(hometeam_rolling_values, axis=0), np.mean(awayteam_rolling_values, axis=0)]))\n",
    "        if match['ftr'] == 'H':\n",
    "            y.append(1)\n",
    "        elif match['ftr'] == 'A':\n",
    "            y.append(-1)\n",
    "        else:\n",
    "            y.append(0)\n",
    "        X.append(np.concatenate([np.mean(awayteam_rolling_values, axis=0), np.mean(hometeam_rolling_values, axis=0)]))\n",
    "        if match['ftr'] == 'H':\n",
    "            y.append(-1)\n",
    "        elif match['ftr'] == 'A':\n",
    "            y.append(1)\n",
    "        else:\n",
    "            y.append(0)\n",
    "        "
   ]
  },
  {
   "cell_type": "code",
   "execution_count": 24,
   "metadata": {},
   "outputs": [],
   "source": [
    "X = np.array(X)\n",
    "y = np.array(y)"
   ]
  },
  {
   "cell_type": "code",
   "execution_count": 25,
   "metadata": {},
   "outputs": [],
   "source": [
    "from sklearn.ensemble import RandomForestClassifier"
   ]
  },
  {
   "cell_type": "code",
   "execution_count": 27,
   "metadata": {},
   "outputs": [],
   "source": [
    "rf = RandomForestClassifier(n_estimators=50, min_samples_split=10, random_state=1)"
   ]
  },
  {
   "cell_type": "code",
   "execution_count": 28,
   "metadata": {},
   "outputs": [
    {
     "data": {
      "text/html": [
       "<style>#sk-container-id-1 {color: black;background-color: white;}#sk-container-id-1 pre{padding: 0;}#sk-container-id-1 div.sk-toggleable {background-color: white;}#sk-container-id-1 label.sk-toggleable__label {cursor: pointer;display: block;width: 100%;margin-bottom: 0;padding: 0.3em;box-sizing: border-box;text-align: center;}#sk-container-id-1 label.sk-toggleable__label-arrow:before {content: \"▸\";float: left;margin-right: 0.25em;color: #696969;}#sk-container-id-1 label.sk-toggleable__label-arrow:hover:before {color: black;}#sk-container-id-1 div.sk-estimator:hover label.sk-toggleable__label-arrow:before {color: black;}#sk-container-id-1 div.sk-toggleable__content {max-height: 0;max-width: 0;overflow: hidden;text-align: left;background-color: #f0f8ff;}#sk-container-id-1 div.sk-toggleable__content pre {margin: 0.2em;color: black;border-radius: 0.25em;background-color: #f0f8ff;}#sk-container-id-1 input.sk-toggleable__control:checked~div.sk-toggleable__content {max-height: 200px;max-width: 100%;overflow: auto;}#sk-container-id-1 input.sk-toggleable__control:checked~label.sk-toggleable__label-arrow:before {content: \"▾\";}#sk-container-id-1 div.sk-estimator input.sk-toggleable__control:checked~label.sk-toggleable__label {background-color: #d4ebff;}#sk-container-id-1 div.sk-label input.sk-toggleable__control:checked~label.sk-toggleable__label {background-color: #d4ebff;}#sk-container-id-1 input.sk-hidden--visually {border: 0;clip: rect(1px 1px 1px 1px);clip: rect(1px, 1px, 1px, 1px);height: 1px;margin: -1px;overflow: hidden;padding: 0;position: absolute;width: 1px;}#sk-container-id-1 div.sk-estimator {font-family: monospace;background-color: #f0f8ff;border: 1px dotted black;border-radius: 0.25em;box-sizing: border-box;margin-bottom: 0.5em;}#sk-container-id-1 div.sk-estimator:hover {background-color: #d4ebff;}#sk-container-id-1 div.sk-parallel-item::after {content: \"\";width: 100%;border-bottom: 1px solid gray;flex-grow: 1;}#sk-container-id-1 div.sk-label:hover label.sk-toggleable__label {background-color: #d4ebff;}#sk-container-id-1 div.sk-serial::before {content: \"\";position: absolute;border-left: 1px solid gray;box-sizing: border-box;top: 0;bottom: 0;left: 50%;z-index: 0;}#sk-container-id-1 div.sk-serial {display: flex;flex-direction: column;align-items: center;background-color: white;padding-right: 0.2em;padding-left: 0.2em;position: relative;}#sk-container-id-1 div.sk-item {position: relative;z-index: 1;}#sk-container-id-1 div.sk-parallel {display: flex;align-items: stretch;justify-content: center;background-color: white;position: relative;}#sk-container-id-1 div.sk-item::before, #sk-container-id-1 div.sk-parallel-item::before {content: \"\";position: absolute;border-left: 1px solid gray;box-sizing: border-box;top: 0;bottom: 0;left: 50%;z-index: -1;}#sk-container-id-1 div.sk-parallel-item {display: flex;flex-direction: column;z-index: 1;position: relative;background-color: white;}#sk-container-id-1 div.sk-parallel-item:first-child::after {align-self: flex-end;width: 50%;}#sk-container-id-1 div.sk-parallel-item:last-child::after {align-self: flex-start;width: 50%;}#sk-container-id-1 div.sk-parallel-item:only-child::after {width: 0;}#sk-container-id-1 div.sk-dashed-wrapped {border: 1px dashed gray;margin: 0 0.4em 0.5em 0.4em;box-sizing: border-box;padding-bottom: 0.4em;background-color: white;}#sk-container-id-1 div.sk-label label {font-family: monospace;font-weight: bold;display: inline-block;line-height: 1.2em;}#sk-container-id-1 div.sk-label-container {text-align: center;}#sk-container-id-1 div.sk-container {/* jupyter's `normalize.less` sets `[hidden] { display: none; }` but bootstrap.min.css set `[hidden] { display: none !important; }` so we also need the `!important` here to be able to override the default hidden behavior on the sphinx rendered scikit-learn.org. See: https://github.com/scikit-learn/scikit-learn/issues/21755 */display: inline-block !important;position: relative;}#sk-container-id-1 div.sk-text-repr-fallback {display: none;}</style><div id=\"sk-container-id-1\" class=\"sk-top-container\"><div class=\"sk-text-repr-fallback\"><pre>RandomForestClassifier(min_samples_split=10, n_estimators=50, random_state=1)</pre><b>In a Jupyter environment, please rerun this cell to show the HTML representation or trust the notebook. <br />On GitHub, the HTML representation is unable to render, please try loading this page with nbviewer.org.</b></div><div class=\"sk-container\" hidden><div class=\"sk-item\"><div class=\"sk-estimator sk-toggleable\"><input class=\"sk-toggleable__control sk-hidden--visually\" id=\"sk-estimator-id-1\" type=\"checkbox\" checked><label for=\"sk-estimator-id-1\" class=\"sk-toggleable__label sk-toggleable__label-arrow\">RandomForestClassifier</label><div class=\"sk-toggleable__content\"><pre>RandomForestClassifier(min_samples_split=10, n_estimators=50, random_state=1)</pre></div></div></div></div></div>"
      ],
      "text/plain": [
       "RandomForestClassifier(min_samples_split=10, n_estimators=50, random_state=1)"
      ]
     },
     "execution_count": 28,
     "metadata": {},
     "output_type": "execute_result"
    }
   ],
   "source": [
    "rf.fit(X, y)"
   ]
  },
  {
   "cell_type": "code",
   "execution_count": 222,
   "metadata": {},
   "outputs": [],
   "source": [
    "matches = pd.read_csv(premier_league_dir + '/Season 2019-2020.csv', index_col=0)\n",
    "\n",
    "matches = matches.drop(matches.iloc[:, 23:],axis = 1)\n",
    "matches = matches.drop(['HTHG', 'HTAG', 'HTR', 'Referee'],axis = 1)\n",
    "matches = matches.reset_index(drop=True)\n",
    "\n",
    "matches['Datetime'] = matches.apply(lambda row: row.Date + ' ' + row.Time, axis=1)\n",
    "matches = matches.drop(['Date', 'Time'],axis = 1)\n",
    "matches['Datetime'] = pd.to_datetime(matches['Datetime'], format='%d/%m/%Y %H:%M')\n",
    "\n",
    "matches = matches.rename(columns=str.lower)\n",
    "\n",
    "# Shot conversion rate\n",
    "matches['hscr'] = matches['fthg'] / matches['hs']\n",
    "matches['ascr'] = matches['ftag'] / matches['as']"
   ]
  },
  {
   "cell_type": "code",
   "execution_count": 224,
   "metadata": {},
   "outputs": [],
   "source": [
    "correct = 0\n",
    "incorrect = 0\n",
    "\n",
    "for _, match in matches.iterrows():\n",
    "    previous_matches = matches[matches['datetime'] < match['datetime']]\n",
    "    previous_hometeam_matches = previous_matches[(previous_matches['hometeam'] == match['hometeam']) | (previous_matches['awayteam'] == match['hometeam'])]\n",
    "    previous_awayteam_matches = previous_matches[(previous_matches['hometeam'] == match['awayteam']) | (previous_matches['awayteam'] == match['awayteam'])]\n",
    "    if previous_hometeam_matches.shape[0] > 0 and previous_awayteam_matches.shape[0] > 0:\n",
    "        hometeam_rolling_values = [] # Shots, Shots On Target, Corners, Foul Committed, Yellow Cards, Red Cards, Score Conversion Rate\n",
    "        awayteam_rolling_values = []\n",
    "        for _, previous_match in previous_hometeam_matches.iterrows():\n",
    "            if previous_match['hometeam'] == match['hometeam']:\n",
    "                hometeam_rolling_values.append([previous_match['hs'], previous_match['hst'], previous_match['hc'], previous_match['hf'], previous_match['hy'], previous_match['hr'], previous_match['hscr']])\n",
    "            if previous_match['awayteam'] == match['hometeam']:\n",
    "                hometeam_rolling_values.append([previous_match['as'], previous_match['ast'], previous_match['ac'], previous_match['af'], previous_match['ay'], previous_match['ar'], previous_match['ascr']])\n",
    "        for _, previous_match in previous_awayteam_matches.iterrows():\n",
    "            if previous_match['hometeam'] == match['awayteam']:\n",
    "                awayteam_rolling_values.append([previous_match['hs'], previous_match['hst'], previous_match['hc'], previous_match['hf'], previous_match['hy'], previous_match['hr'], previous_match['hscr']])\n",
    "            if previous_match['awayteam'] == match['awayteam']:\n",
    "                awayteam_rolling_values.append([previous_match['as'], previous_match['ast'], previous_match['ac'], previous_match['af'], previous_match['ay'], previous_match['ar'], previous_match['ascr']])\n",
    "        if len(hometeam_rolling_values) > 5:\n",
    "            hometeam_rolling_values = hometeam_rolling_values[-6:]\n",
    "        if len(awayteam_rolling_values) > 5:\n",
    "            awayteam_rolling_values = awayteam_rolling_values[-6:]\n",
    "        pred = rf.predict(np.array([np.concatenate([np.mean(hometeam_rolling_values, axis=0), np.mean(awayteam_rolling_values, axis=0)])]))\n",
    "        if match['ftr'] == 'H' and pred == 1:\n",
    "            correct += 1\n",
    "        elif match['ftr'] == 'A' and pred == -1:\n",
    "            correct += 1\n",
    "        elif match['ftr'] == 'D' and pred == 0:\n",
    "            correct += 1\n",
    "        else:\n",
    "            incorrect += 1\n",
    "        pred = rf.predict(np.array([np.concatenate([np.mean(awayteam_rolling_values, axis=0), np.mean(hometeam_rolling_values, axis=0)])]))\n",
    "        if match['ftr'] == 'H' and pred == -1:\n",
    "            correct += 1\n",
    "        elif match['ftr'] == 'A' and pred == 1:\n",
    "            correct += 1\n",
    "        elif match['ftr'] == 'D' and pred == 0:\n",
    "            correct += 1\n",
    "        else:\n",
    "            incorrect += 1"
   ]
  },
  {
   "cell_type": "code",
   "execution_count": 225,
   "metadata": {},
   "outputs": [
    {
     "data": {
      "text/plain": [
       "0.45"
      ]
     },
     "execution_count": 225,
     "metadata": {},
     "output_type": "execute_result"
    }
   ],
   "source": [
    "correct / (correct + incorrect)"
   ]
  },
  {
   "cell_type": "code",
   "execution_count": null,
   "metadata": {},
   "outputs": [],
   "source": []
  }
 ],
 "metadata": {
  "kernelspec": {
   "display_name": "soccer_prediction_env",
   "language": "python",
   "name": "python3"
  },
  "language_info": {
   "codemirror_mode": {
    "name": "ipython",
    "version": 3
   },
   "file_extension": ".py",
   "mimetype": "text/x-python",
   "name": "python",
   "nbconvert_exporter": "python",
   "pygments_lexer": "ipython3",
   "version": "3.10.4"
  },
  "orig_nbformat": 4,
  "vscode": {
   "interpreter": {
    "hash": "fc2bbdfb42d6aa2db20501d1fe19969903d122639329b48bbd7a24cb9ad7132f"
   }
  }
 },
 "nbformat": 4,
 "nbformat_minor": 2
}
